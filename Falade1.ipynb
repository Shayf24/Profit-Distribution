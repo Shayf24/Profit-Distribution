{
 "cells": [
  {
   "cell_type": "code",
   "execution_count": 35,
   "id": "d038e510",
   "metadata": {},
   "outputs": [],
   "source": [
    "from numpy import loadtxt, zeros, ones, array, linspace, logspace"
   ]
  },
  {
   "cell_type": "code",
   "execution_count": 36,
   "id": "1021344a",
   "metadata": {},
   "outputs": [],
   "source": [
    "from pylab import scatter, show, title, xlabel, ylabel, plot, contour"
   ]
  },
  {
   "cell_type": "code",
   "execution_count": 37,
   "id": "088b4cdb",
   "metadata": {},
   "outputs": [],
   "source": [
    "#Loading the dataset"
   ]
  },
  {
   "cell_type": "code",
   "execution_count": 38,
   "id": "6b1e661b",
   "metadata": {},
   "outputs": [],
   "source": [
    "data = loadtxt('assignment.txt', delimiter=',')"
   ]
  },
  {
   "cell_type": "code",
   "execution_count": 39,
   "id": "fbc7ad93",
   "metadata": {},
   "outputs": [],
   "source": [
    "#Plotting the scatter diagram"
   ]
  },
  {
   "cell_type": "code",
   "execution_count": 40,
   "id": "039d4f1f",
   "metadata": {},
   "outputs": [
    {
     "data": {
      "text/plain": [
       "Text(0, 0.5, 'Profits')"
      ]
     },
     "execution_count": 40,
     "metadata": {},
     "output_type": "execute_result"
    },
    {
     "data": {
      "image/png": "[encoded data removed]",
      "text/plain": [
       "<Figure size 432x288 with 1 Axes>"
      ]
     },
     "metadata": {
      "needs_background": "light"
     },
     "output_type": "display_data"
    }
   ],
   "source": [
    "scatter(data[:, 0], data[:, 1], marker='o', c='b')\n",
    "title('Profits distribution')\n",
    "xlabel('Populations')\n",
    "ylabel('Profits')"
   ]
  },
  {
   "cell_type": "code",
   "execution_count": 41,
   "id": "297aff07",
   "metadata": {},
   "outputs": [],
   "source": [
    "X=data[:,0]\n"
   ]
  },
  {
   "cell_type": "code",
   "execution_count": 42,
   "id": "2270ac38",
   "metadata": {},
   "outputs": [],
   "source": [
    "y = data[:, 1]\n"
   ]
  },
  {
   "cell_type": "code",
   "execution_count": 72,
   "id": "e6de4fb4",
   "metadata": {},
   "outputs": [
    {
     "data": {
      "text/plain": [
       "array([17.592  ,  9.1302 , 13.662  , 11.854  ,  6.8233 , 11.886  ,\n",
       "        4.3483 , 12.     ,  6.5987 ,  3.8166 ,  3.2522 , 15.505  ,\n",
       "        3.1551 ,  7.2258 ,  0.71618,  3.5129 ,  5.3048 ,  0.56077,\n",
       "        3.6518 ,  5.3893 ,  3.1386 , 21.767  ,  4.263  ,  5.1875 ,\n",
       "        3.0825 , 22.638  , 13.501  ,  7.0467 , 14.692  , 24.147  ,\n",
       "       -1.22   ,  5.9966 , 12.134  ,  1.8495 ,  6.5426 ,  4.5623 ,\n",
       "        4.1164 ,  3.3928 , 10.117  ,  5.4974 ,  0.55657,  3.9115 ,\n",
       "        5.3854 ,  2.4406 ,  6.7318 ,  1.0463 ,  5.1337 ,  1.844  ,\n",
       "        8.0043 ,  1.0179 ,  6.7504 ,  1.8396 ,  4.2885 ,  4.9981 ,\n",
       "        1.4233 , -1.4211 ,  2.4756 ,  4.6042 ,  3.9624 ,  5.4141 ,\n",
       "        5.1694 , -0.74279, 17.929  , 12.054  , 17.054  ,  4.8852 ,\n",
       "        5.7442 ,  7.7754 ,  1.0173 , 20.992  ,  6.6799 ,  4.0259 ,\n",
       "        1.2784 ,  3.3411 , -2.6807 ,  0.29678,  3.8845 ,  5.7014 ,\n",
       "        6.7526 ,  2.0576 ,  0.47953,  0.20421,  0.67861,  7.5435 ,\n",
       "        5.3436 ,  4.2415 ,  6.7981 ,  0.92695,  0.152  ,  2.8214 ,\n",
       "        1.8451 ,  4.2959 ,  7.2029 ,  1.9869 ,  0.14454,  9.0551 ,\n",
       "        0.61705])"
      ]
     },
     "execution_count": 72,
     "metadata": {},
     "output_type": "execute_result"
    }
   ],
   "source": [
    "y"
   ]
  },
  {
   "cell_type": "code",
   "execution_count": 73,
   "id": "d98b8e10",
   "metadata": {},
   "outputs": [],
   "source": [
    "#declare number of training samples"
   ]
  },
  {
   "cell_type": "code",
   "execution_count": 93,
   "id": "8af90f2e",
   "metadata": {},
   "outputs": [],
   "source": [
    "m = y.size"
   ]
  },
  {
   "cell_type": "code",
   "execution_count": 94,
   "id": "62dfa54b",
   "metadata": {},
   "outputs": [],
   "source": [
    "#Add a column of ones to X (interception data)"
   ]
  },
  {
   "cell_type": "code",
   "execution_count": 95,
   "id": "c07d842b",
   "metadata": {},
   "outputs": [],
   "source": [
    "it = ones(shape=(m, 2))"
   ]
  },
  {
   "cell_type": "code",
   "execution_count": 96,
   "id": "4984a76b",
   "metadata": {},
   "outputs": [],
   "source": [
    "it[:, 1] = X"
   ]
  },
  {
   "cell_type": "code",
   "execution_count": 97,
   "id": "ae505722",
   "metadata": {},
   "outputs": [
    {
     "data": {
      "text/plain": [
       "array([ 6.1101,  5.5277,  8.5186,  7.0032,  5.8598,  8.3829,  7.4764,\n",
       "        8.5781,  6.4862,  5.0546,  5.7107, 14.164 ,  5.734 ,  8.4084,\n",
       "        5.6407,  5.3794,  6.3654,  5.1301,  6.4296,  7.0708,  6.1891,\n",
       "       20.27  ,  5.4901,  6.3261,  5.5649, 18.945 , 12.828 , 10.957 ,\n",
       "       13.176 , 22.203 ,  5.2524,  6.5894,  9.2482,  5.8918,  8.2111,\n",
       "        7.9334,  8.0959,  5.6063, 12.836 ,  6.3534,  5.4069,  6.8825,\n",
       "       11.708 ,  5.7737,  7.8247,  7.0931,  5.0702,  5.8014, 11.7   ,\n",
       "        5.5416,  7.5402,  5.3077,  7.4239,  7.6031,  6.3328,  6.3589,\n",
       "        6.2742,  5.6397,  9.3102,  9.4536,  8.8254,  5.1793, 21.279 ,\n",
       "       14.908 , 18.959 ,  7.2182,  8.2951, 10.236 ,  5.4994, 20.341 ,\n",
       "       10.136 ,  7.3345,  6.0062,  7.2259,  5.0269,  6.5479,  7.5386,\n",
       "        5.0365, 10.274 ,  5.1077,  5.7292,  5.1884,  6.3557,  9.7687,\n",
       "        6.5159,  8.5172,  9.1802,  6.002 ,  5.5204,  5.0594,  5.7077,\n",
       "        7.6366,  5.8707,  5.3054,  8.2934, 13.394 ,  5.4369])"
      ]
     },
     "execution_count": 97,
     "metadata": {},
     "output_type": "execute_result"
    }
   ],
   "source": [
    "X"
   ]
  },
  {
   "cell_type": "code",
   "execution_count": 98,
   "id": "571d9b1c",
   "metadata": {},
   "outputs": [],
   "source": [
    "#Initialize parameters of the model (theta parameters)\n",
    "\n"
   ]
  },
  {
   "cell_type": "code",
   "execution_count": 99,
   "id": "5bf6f782",
   "metadata": {},
   "outputs": [],
   "source": [
    "theta = zeros(shape=(2, 1))"
   ]
  },
  {
   "cell_type": "code",
   "execution_count": 100,
   "id": "b44867a1",
   "metadata": {},
   "outputs": [],
   "source": [
    "#Initializing gradient descent settings\n"
   ]
  },
  {
   "cell_type": "code",
   "execution_count": 101,
   "id": "f50e14f6",
   "metadata": {},
   "outputs": [],
   "source": [
    "iterations = 1500"
   ]
  },
  {
   "cell_type": "code",
   "execution_count": 102,
   "id": "3bde0f8c",
   "metadata": {},
   "outputs": [],
   "source": [
    "alpha = 0.01"
   ]
  },
  {
   "cell_type": "code",
   "execution_count": 84,
   "id": "8a7491a3",
   "metadata": {},
   "outputs": [],
   "source": [
    "#Evaluate the linear regression\n"
   ]
  },
  {
   "cell_type": "code",
   "execution_count": 85,
   "id": "fd3f0f58",
   "metadata": {},
   "outputs": [],
   "source": [
    "def compute_cost(X, y, theta):\n",
    " \n",
    "    #Number of training samples\n",
    "    m = y.size\n",
    "\n",
    "    predictions = X.dot(theta).flatten()\n",
    "\n",
    "    sqErrors = (predictions - y) ** 2\n",
    "\n",
    "    J = (1.0 / (2 * m)) * sqErrors.sum() \n",
    "    return J\n",
    "\n",
    "\n"
   ]
  },
  {
   "cell_type": "code",
   "execution_count": 86,
   "id": "dc133826",
   "metadata": {},
   "outputs": [],
   "source": [
    "def gradient_descent(X, y, theta, alpha, num_iters):\n",
    "    #Performs gradient descent to learn theta by taking num_items gradient steps with learning rate alpha\n",
    "    m = y.size\n",
    "    J_history = zeros(shape=(num_iters, 1))\n",
    "\n",
    "    for i in range(num_iters):\n",
    "\n",
    "        predictions = X.dot(theta).flatten()\n",
    "\n",
    "        errors_x1 = (predictions - y) * X[:, 0]\n",
    "        errors_x2 = (predictions - y) * X[:, 1]\n",
    "\n",
    "        theta[0][0] = theta[0][0] - alpha * (1.0 / m) * errors_x1.sum()\n",
    "        theta[1][0] = theta[1][0] - alpha * (1.0 / m) * errors_x2.sum()\n",
    "\n",
    "        J_history[i, 0] = compute_cost(X, y, theta)\n",
    "\n",
    "    return theta, J_history"
   ]
  },
  {
   "cell_type": "code",
   "execution_count": 91,
   "id": "855ccb85",
   "metadata": {},
   "outputs": [],
   "source": [
    "\n",
    "#compute and display initial cost\n",
    "\n"
   ]
  },
  {
   "cell_type": "code",
   "execution_count": 90,
   "id": "190598a4",
   "metadata": {},
   "outputs": [
    {
     "data": {
      "text/plain": [
       "Text(0, 0.5, 'Profit in $10,000s')"
      ]
     },
     "execution_count": 90,
     "metadata": {},
     "output_type": "execute_result"
    },
    {
     "data": {
      "image/png": "[encoded data removed]",
      "text/plain": [
       "<Figure size 432x288 with 1 Axes>"
      ]
     },
     "metadata": {
      "needs_background": "light"
     },
     "output_type": "display_data"
    }
   ],
   "source": [
    "#Plot the data\n",
    "scatter(data[:, 0], data[:, 1], marker='o', c='b')\n",
    "title('Profits distribution')\n",
    "xlabel('Population of City in 10,000s')\n",
    "ylabel('Profit in $10,000s')\n",
    "#show()\n",
    "\n"
   ]
  },
  {
   "cell_type": "code",
   "execution_count": 105,
   "id": "c9ad3b18",
   "metadata": {},
   "outputs": [],
   "source": [
    "\n",
    "\n",
    "theta, J_history = gradient_descent(it, y, theta, alpha, iterations)\n",
    "\n"
   ]
  },
  {
   "cell_type": "code",
   "execution_count": 107,
   "id": "133f8406",
   "metadata": {},
   "outputs": [
    {
     "name": "stdout",
     "output_type": "stream",
     "text": [
      "[[-3.63029144]\n",
      " [ 1.16636235]]\n"
     ]
    }
   ],
   "source": [
    "print (theta)\n"
   ]
  },
  {
   "cell_type": "code",
   "execution_count": 111,
   "id": "7865aa2a",
   "metadata": {},
   "outputs": [],
   "source": [
    "#Predict values for population sizes of 35,000 and 70,000\n",
    "predict1 = array([1, 3.5]).dot(theta).flatten()\n"
   ]
  },
  {
   "cell_type": "code",
   "execution_count": 114,
   "id": "c5e8c66b",
   "metadata": {},
   "outputs": [
    {
     "name": "stdout",
     "output_type": "stream",
     "text": [
      "For population = 35,000, we predict a profit of 4519.767868\n"
     ]
    }
   ],
   "source": [
    "print('For population = 35,000, we predict a profit of %f' % (predict1 * 10000))\n",
    "\n"
   ]
  },
  {
   "cell_type": "code",
   "execution_count": 115,
   "id": "375ce1d1",
   "metadata": {},
   "outputs": [
    {
     "name": "stdout",
     "output_type": "stream",
     "text": [
      "For population = 70000, we predict a profit of 45342.450129\n"
     ]
    }
   ],
   "source": [
    "predict2 = array([1, 7.0]).dot(theta).flatten()\n",
    "print ('For population = 70000, we predict a profit of %f' % (predict2 * 10000))\n",
    "\n"
   ]
  },
  {
   "cell_type": "code",
   "execution_count": 120,
   "id": "d6dbea7f",
   "metadata": {},
   "outputs": [
    {
     "data": {
      "image/png": "[encoded data removed]",
      "text/plain": [
       "<Figure size 432x288 with 1 Axes>"
      ]
     },
     "metadata": {
      "needs_background": "light"
     },
     "output_type": "display_data"
    }
   ],
   "source": [
    "#Plot the results#Plot the data\n",
    "scatter(data[:, 0], data[:, 1], marker='o', c='b')\n",
    "title('Profits distribution')\n",
    "xlabel('Populations')\n",
    "ylabel('Profits')\n",
    "result = it.dot(theta).flatten()\n",
    "plot(data[:, 0], result)\n",
    "show()\n",
    "\n",
    "\n"
   ]
  },
  {
   "cell_type": "code",
   "execution_count": null,
   "id": "095b94cb",
   "metadata": {},
   "outputs": [],
   "source": []
  }
 ],
 "metadata": {
  "kernelspec": {
   "display_name": "Python 3 (ipykernel)",
   "language": "python",
   "name": "python3"
  },
  "language_info": {
   "codemirror_mode": {
    "name": "ipython",
    "version": 3
   },
   "file_extension": ".py",
   "mimetype": "text/x-python",
   "name": "python",
   "nbconvert_exporter": "python",
   "pygments_lexer": "ipython3",
   "version": "3.9.7"
  }
 },
 "nbformat": 4,
 "nbformat_minor": 5
}
